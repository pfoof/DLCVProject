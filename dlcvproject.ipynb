{
 "cells": [
  {
   "cell_type": "code",
   "execution_count": 1,
   "metadata": {},
   "outputs": [
    {
     "name": "stderr",
     "output_type": "stream",
     "text": [
      "Using TensorFlow backend.\n"
     ]
    }
   ],
   "source": [
    "from keras.layers import Input, Dense, Conv2D, Concatenate, UpSampling2D\n",
    "from keras.models import Model, Sequential\n",
    "from keras.layers import concatenate, merge\n",
    "from PIL import Image\n",
    "import numpy as np"
   ]
  },
  {
   "cell_type": "code",
   "execution_count": 2,
   "metadata": {
    "scrolled": true
   },
   "outputs": [
    {
     "name": "stdout",
     "output_type": "stream",
     "text": [
      "(720, 1280, 1)\n"
     ]
    }
   ],
   "source": [
    "encoding_dim = 32\n",
    "\n",
    "\n",
    "y_shape = (720, 1280, 1)\n",
    "uv_shape = (360, 640, 1)\n",
    "\n",
    "img = {}\n",
    "\n",
    "def normalize(im):\n",
    "    for y in range(im.shape[0]):\n",
    "        for x in range(im.shape[1]):\n",
    "            im[y, x] /= 255.0\n",
    "\n",
    "for channel in [\"y\", \"u\", \"v\"]:\n",
    "    img[channel] = np.array(Image.open(\"yset/video_0/Gaming_720P-4813_00002_{}.baseline.jpg\".format(channel)))\n",
    "    normalize(img[channel])\n",
    "    img[channel] = np.reshape(img[channel], (img[channel].shape[0], img[channel].shape[1], 1))\n",
    "    \n",
    "print(img[\"y\"].shape)\n"
   ]
  },
  {
   "cell_type": "code",
   "execution_count": 19,
   "metadata": {
    "scrolled": true
   },
   "outputs": [
    {
     "name": "stdout",
     "output_type": "stream",
     "text": [
      "Model: \"model_9\"\n",
      "__________________________________________________________________________________________________\n",
      "Layer (type)                    Output Shape         Param #     Connected to                     \n",
      "==================================================================================================\n",
      "input_49 (InputLayer)           (None, 720, 1280, 1) 0                                            \n",
      "__________________________________________________________________________________________________\n",
      "input_50 (InputLayer)           (None, 360, 640, 1)  0                                            \n",
      "__________________________________________________________________________________________________\n",
      "input_51 (InputLayer)           (None, 360, 640, 1)  0                                            \n",
      "__________________________________________________________________________________________________\n",
      "yConv (Conv2D)                  (None, 360, 640, 1)  26          input_49[0][0]                   \n",
      "__________________________________________________________________________________________________\n",
      "uConv (Conv2D)                  (None, 360, 640, 1)  10          input_50[0][0]                   \n",
      "__________________________________________________________________________________________________\n",
      "vConv (Conv2D)                  (None, 360, 640, 1)  10          input_51[0][0]                   \n",
      "__________________________________________________________________________________________________\n",
      "concatenate_11 (Concatenate)    (None, 360, 640, 3)  0           yConv[0][0]                      \n",
      "                                                                 uConv[0][0]                      \n",
      "                                                                 vConv[0][0]                      \n",
      "__________________________________________________________________________________________________\n",
      "up_sampling2d_14 (UpSampling2D) (None, 720, 1280, 3) 0           concatenate_11[0][0]             \n",
      "==================================================================================================\n",
      "Total params: 46\n",
      "Trainable params: 46\n",
      "Non-trainable params: 0\n",
      "__________________________________________________________________________________________________\n",
      "(None, 720, 1280, 3)\n"
     ]
    }
   ],
   "source": [
    "y_input = Input(y_shape)\n",
    "u_input = Input(uv_shape)\n",
    "v_input = Input(uv_shape)\n",
    "\n",
    "y_model = Conv2D(1, 5, padding=\"same\", name='yConv', strides=(2, 2), activation='relu', input_shape=y_shape)(y_input)\n",
    "\n",
    "u_model = Conv2D(1, 3, padding=\"same\", name='uConv', activation='relu', input_shape=uv_shape)(u_input)\n",
    "\n",
    "v_model = Conv2D(1, 3, padding=\"same\", name='vConv', activation='relu', input_shape=uv_shape)(v_input)\n",
    "\n",
    "concat = concatenate([y_model, u_model, v_model])\n",
    "upscale = UpSampling2D(2)(concat)\n",
    "\n",
    "model = Model([y_input, u_input, v_input], upscale)\n",
    "model.summary()\n",
    "\n",
    "\n",
    "print(upscale.shape)"
   ]
  },
  {
   "cell_type": "code",
   "execution_count": null,
   "metadata": {},
   "outputs": [],
   "source": []
  }
 ],
 "metadata": {
  "kernelspec": {
   "display_name": "Python 3",
   "language": "python",
   "name": "python3"
  },
  "language_info": {
   "codemirror_mode": {
    "name": "ipython",
    "version": 3
   },
   "file_extension": ".py",
   "mimetype": "text/x-python",
   "name": "python",
   "nbconvert_exporter": "python",
   "pygments_lexer": "ipython3",
   "version": "3.6.9"
  }
 },
 "nbformat": 4,
 "nbformat_minor": 2
}
