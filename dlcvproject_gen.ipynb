{
 "cells": [
  {
   "cell_type": "code",
   "execution_count": 1,
   "metadata": {},
   "outputs": [],
   "source": [
    "from tensorflow.python.keras.layers import Input, Dense, Conv2D, Concatenate, UpSampling2D, MaxPooling2D, Lambda, Reshape\n",
    "from tensorflow.python.keras.models import Model, Sequential\n",
    "from tensorflow.python.keras.layers import concatenate, merge\n",
    "from tensorflow.python.keras.backend import expand_dims, squeeze\n",
    "from tensorflow.python.keras.optimizers import RMSprop\n",
    "from PIL import Image\n",
    "import numpy as np\n",
    "from tensorflow.python.keras.utils.data_utils import Sequence\n",
    "import time"
   ]
  },
  {
   "cell_type": "code",
   "execution_count": 2,
   "metadata": {
    "scrolled": true
   },
   "outputs": [],
   "source": [
    "encoding_dim = 32\n",
    "\n",
    "\n",
    "y_shape = (720, 1280, 1)\n",
    "uv_shape = (360, 640, 1)\n",
    "\n",
    "def normalize(im):\n",
    "    for y in range(im.shape[0]):\n",
    "        for x in range(im.shape[1]):\n",
    "            im[y, x] /= 255.0\n",
    "\n",
    "def loadImage(num):\n",
    "    img = {}\n",
    "\n",
    "    for channel in [\"y\", \"u\", \"v\"]:\n",
    "        img[channel] = np.array(Image.open(\"gaming/Gaming_720P-4813/Gaming_720P-4813_{}_{}.png\".format(num,channel)))\n",
    "        normalize(img[channel])\n",
    "        img[channel] = np.reshape(img[channel], (img[channel].shape[0], img[channel].shape[1], 1))\n",
    "\n",
    "    return img\n",
    "\n",
    "def loadBaselineImage(num):\n",
    "    img = {}\n",
    "\n",
    "    for channel in [\"y\", \"u\", \"v\"]:\n",
    "        img[channel] = np.array(Image.open(\"gaming_y/Gaming_720P-4813/Gaming_720P-4813_{}_{}.baseline.jpg\".format(num,channel)))\n",
    "        normalize(img[channel])\n",
    "        img[channel] = np.reshape(img[channel], (img[channel].shape[0], img[channel].shape[1], 1))\n",
    "\n",
    "    return img\n",
    "\n",
    "# source_prevs = []\n",
    "# source_nexts = []\n",
    "# destination_nexts = []\n",
    "# for i in range(2,6):\n",
    "#     source_prev = loadImage(\"0000{}\".format(i))\n",
    "#     source_next = loadBaselineImage(\"0000{}\".format(i+1))\n",
    "#     destination_next = loadImage(\"0000{}\".format(i+1))\n",
    "#     source_prevs.append(source_prev)\n",
    "#     source_nexts.append(source_next)\n",
    "#     destination_nexts.append(destination_next)"
   ]
  },
  {
   "cell_type": "code",
   "execution_count": 3,
   "metadata": {},
   "outputs": [],
   "source": [
    "# y_prev = []\n",
    "# y_next = []\n",
    "# u_prev = []\n",
    "# u_next = []\n",
    "# v_prev = []\n",
    "# v_next = []\n",
    "# y_out = []\n",
    "# uv_out = []\n",
    "\n",
    "# for prev, _next, dest in zip(source_prevs, source_nexts, destination_nexts):\n",
    "#     y_prev.append(prev[\"y\"])\n",
    "#     y_next.append(_next[\"y\"])\n",
    "#     u_prev.append(prev[\"u\"])\n",
    "#     u_next.append(_next[\"u\"])\n",
    "#     v_prev.append(prev[\"v\"])\n",
    "#     v_next.append(_next[\"v\"])\n",
    "\n",
    "#     y_out.append(np.reshape(dest[\"y\"], (720, 1280)))\n",
    "#     uv_out.append(np.reshape(np.concatenate((dest[\"u\"], dest[\"v\"]), axis = 2), (-1, 360, 640)))\n",
    "\n",
    "    \n",
    "# model_inputs = [y_prev, y_next, u_prev, u_next, v_prev, v_next]\n",
    "# model_outputs = [y_out, uv_out]\n",
    "\n",
    "# print(dest[\"y\"].shape)\n",
    "# #print(model_outputs)"
   ]
  },
  {
   "cell_type": "code",
   "execution_count": 3,
   "metadata": {},
   "outputs": [],
   "source": [
    "import tensorflow as tf\n",
    "\n",
    "tf.compat.v1.disable_eager_execution()"
   ]
  },
  {
   "cell_type": "code",
   "execution_count": 4,
   "metadata": {},
   "outputs": [
    {
     "name": "stderr",
     "output_type": "stream",
     "text": [
      "WARNING: Logging before flag parsing goes to stderr.\n",
      "W0615 09:56:05.390659 139987703392064 deprecation.py:506] From /usr/local/lib/python3.6/dist-packages/tensorflow_core/python/ops/resource_variable_ops.py:1635: calling BaseResourceVariable.__init__ (from tensorflow.python.ops.resource_variable_ops) with constraint is deprecated and will be removed in a future version.\n",
      "Instructions for updating:\n",
      "If using Keras pass *_constraint arguments to layers.\n"
     ]
    },
    {
     "name": "stdout",
     "output_type": "stream",
     "text": [
      "Model: \"model\"\n",
      "__________________________________________________________________________________________________\n",
      "Layer (type)                    Output Shape         Param #     Connected to                     \n",
      "==================================================================================================\n",
      "input_1 (InputLayer)            [(None, 720, 1280, 1 0                                            \n",
      "__________________________________________________________________________________________________\n",
      "input_3 (InputLayer)            [(None, 360, 640, 1) 0                                            \n",
      "__________________________________________________________________________________________________\n",
      "input_5 (InputLayer)            [(None, 360, 640, 1) 0                                            \n",
      "__________________________________________________________________________________________________\n",
      "yConv (Conv2D)                  (None, 360, 640, 16) 160         input_1[0][0]                    \n",
      "__________________________________________________________________________________________________\n",
      "yEmbConv (Conv2D)               (None, 360, 640, 16) 160         input_1[0][0]                    \n",
      "__________________________________________________________________________________________________\n",
      "uConv (Conv2D)                  (None, 360, 640, 16) 160         input_3[0][0]                    \n",
      "__________________________________________________________________________________________________\n",
      "uEmbConv (Conv2D)               (None, 360, 640, 16) 160         input_3[0][0]                    \n",
      "__________________________________________________________________________________________________\n",
      "vConv (Conv2D)                  (None, 360, 640, 16) 160         input_5[0][0]                    \n",
      "__________________________________________________________________________________________________\n",
      "vEmbConv (Conv2D)               (None, 360, 640, 16) 160         input_5[0][0]                    \n",
      "__________________________________________________________________________________________________\n",
      "concatenate (Concatenate)       (None, 360, 640, 96) 0           yConv[0][0]                      \n",
      "                                                                 yEmbConv[0][0]                   \n",
      "                                                                 uConv[0][0]                      \n",
      "                                                                 uEmbConv[0][0]                   \n",
      "                                                                 vConv[0][0]                      \n",
      "                                                                 vEmbConv[0][0]                   \n",
      "__________________________________________________________________________________________________\n",
      "max_pooling2d (MaxPooling2D)    (None, 180, 320, 96) 0           concatenate[0][0]                \n",
      "__________________________________________________________________________________________________\n",
      "conv2d (Conv2D)                 (None, 180, 320, 192 166080      max_pooling2d[0][0]              \n",
      "__________________________________________________________________________________________________\n",
      "max_pooling2d_1 (MaxPooling2D)  (None, 90, 160, 192) 0           conv2d[0][0]                     \n",
      "__________________________________________________________________________________________________\n",
      "conv2d_1 (Conv2D)               (None, 90, 160, 384) 663936      max_pooling2d_1[0][0]            \n",
      "__________________________________________________________________________________________________\n",
      "conv2d_2 (Conv2D)               (None, 90, 160, 384) 1327488     conv2d_1[0][0]                   \n",
      "__________________________________________________________________________________________________\n",
      "up_sampling2d (UpSampling2D)    (None, 180, 320, 384 0           conv2d_2[0][0]                   \n",
      "__________________________________________________________________________________________________\n",
      "conv2d_3 (Conv2D)               (None, 180, 320, 192 663744      up_sampling2d[0][0]              \n",
      "__________________________________________________________________________________________________\n",
      "up_sampling2d_1 (UpSampling2D)  (None, 360, 640, 192 0           conv2d_3[0][0]                   \n",
      "__________________________________________________________________________________________________\n",
      "conv2d_4 (Conv2D)               (None, 360, 640, 3)  5187        up_sampling2d_1[0][0]            \n",
      "__________________________________________________________________________________________________\n",
      "up_sampling2d_2 (UpSampling2D)  (None, 720, 1280, 3) 0           conv2d_4[0][0]                   \n",
      "__________________________________________________________________________________________________\n",
      "reshape (Reshape)               (None, 3, 720, 1280) 0           up_sampling2d_2[0][0]            \n",
      "__________________________________________________________________________________________________\n",
      "reshape_1 (Reshape)             (None, 3, 360, 640)  0           conv2d_4[0][0]                   \n",
      "__________________________________________________________________________________________________\n",
      "input_2 (InputLayer)            [(None, 720, 1280, 1 0                                            \n",
      "__________________________________________________________________________________________________\n",
      "input_4 (InputLayer)            [(None, 360, 640, 1) 0                                            \n",
      "__________________________________________________________________________________________________\n",
      "input_6 (InputLayer)            [(None, 360, 640, 1) 0                                            \n",
      "__________________________________________________________________________________________________\n",
      "lambda (Lambda)                 (1, 720, 1280)       0           reshape[0][0]                    \n",
      "__________________________________________________________________________________________________\n",
      "lambda_1 (Lambda)               (None, 2, 360, 640)  0           reshape_1[0][0]                  \n",
      "==================================================================================================\n",
      "Total params: 2,827,395\n",
      "Trainable params: 2,827,395\n",
      "Non-trainable params: 0\n",
      "__________________________________________________________________________________________________\n"
     ]
    }
   ],
   "source": [
    "y_input = Input(y_shape)\n",
    "y_emb_input = Input(y_shape)\n",
    "u_input = Input(uv_shape)\n",
    "u_emb_input = Input(uv_shape)\n",
    "v_input = Input(uv_shape)\n",
    "v_emb_input = Input(uv_shape)\n",
    "\n",
    "y_conv1 = Conv2D(16, (3,3), padding=\"same\", name='yConv', strides=(2, 2), activation='relu', input_shape=y_shape)(y_input) # 360x640x16\n",
    "u_conv1 = Conv2D(16, (3,3), padding=\"same\", name='uConv', activation='relu', input_shape=uv_shape)(u_input) # 360x640x16\n",
    "v_conv1 = Conv2D(16, (3,3), padding=\"same\", name='vConv', activation='relu', input_shape=uv_shape)(v_input) # 360x640x16\n",
    "y_emb_conv1 = Conv2D(16, (3,3), padding=\"same\", name='yEmbConv', strides=(2, 2), activation='relu', input_shape=y_shape)(y_input) # 360x640x16\n",
    "u_emb_conv1 = Conv2D(16, (3,3), padding=\"same\", name='uEmbConv', activation='relu', input_shape=uv_shape)(u_input) # 360x640x16\n",
    "v_emb_conv1 = Conv2D(16, (3,3), padding=\"same\", name='vEmbConv', activation='relu', input_shape=uv_shape)(v_input) # 360x640x16\n",
    "\n",
    "conv1 = concatenate([y_conv1, y_emb_conv1, u_conv1, u_emb_conv1, v_conv1, v_emb_conv1]) # 360x640x96\n",
    "pool1 = MaxPooling2D(pool_size=(2, 2))(conv1) # 180x320x96\n",
    "conv2 = Conv2D(192, (3, 3), activation='relu', padding='same')(pool1) # 180x320x192\n",
    "pool2 = MaxPooling2D(pool_size=(2, 2))(conv2) # 90x160x192\n",
    "conv3 = Conv2D(384, (3, 3), activation='relu', padding='same')(pool2) # 90x160x384\n",
    "conv4 = Conv2D(384, (3, 3), activation='relu', padding='same')(conv3) # 90x160x384\n",
    "up1 = UpSampling2D((2,2))(conv4) # 180x320x768\n",
    "conv5 = Conv2D(192, (3, 3), activation='relu', padding='same')(up1) # 180x320x192\n",
    "up2 = UpSampling2D((2,2))(conv5) # 360x640x384\n",
    "decoded = Conv2D(3, (3, 3), activation='sigmoid', padding='same')(up2) # 360x640x3\n",
    "\n",
    "decoded_upscale = UpSampling2D(2)(decoded)\n",
    "y_reshaped = Reshape((3, 720, 1280))(decoded_upscale) # 1x360x640x1\n",
    "y_lambda = Lambda(lambda x: x[0, :1, :, :])(y_reshaped) # 720x1280\n",
    "#y_upsample = UpSampling2D(2)(y_reshaped)\n",
    "#y_conv_post = Conv2D(12, (5, 5), activation = 'relu', padding = 'same')(y_upsample)\n",
    "\n",
    "uv_reshaped = Reshape((3, 360, 640))(decoded)\n",
    "uv_lambda = Lambda(lambda x: x[:, 1:, :, :])(uv_reshaped)\n",
    "#uv_reshape = expand_dims(uv_lambda, (0,))\n",
    "#uv_post_conv = Conv2D(12, (5, 5), activation = 'relu', padding='same')(uv_reshape)\n",
    "\n",
    "model = Model([y_input, y_emb_input, u_input, u_emb_input, v_input, v_emb_input], outputs=[y_lambda, uv_lambda])\n",
    "model.compile(loss='mean_squared_error', optimizer = RMSprop())\n",
    "model.summary()"
   ]
  },
  {
   "cell_type": "code",
   "execution_count": 5,
   "metadata": {},
   "outputs": [
    {
     "name": "stdout",
     "output_type": "stream",
     "text": [
      "1199.0\n"
     ]
    }
   ],
   "source": [
    "import os\n",
    "def number_of_files(dir):\n",
    "    list = os.listdir(dir) # dir is your directory path\n",
    "    return len(list)/3\n",
    "print(number_of_files(\"/macierz/home/149528pp/DLCVProject/gaming_y/Gaming_720P-4813\"))"
   ]
  },
  {
   "cell_type": "code",
   "execution_count": null,
   "metadata": {},
   "outputs": [],
   "source": []
  },
  {
   "cell_type": "code",
   "execution_count": 6,
   "metadata": {},
   "outputs": [],
   "source": [
    "def data_generator(num_photos_per_batch):\n",
    "    files = number_of_files(\"/macierz/home/149528pp/DLCVProject/gaming_y/Gaming_720P-4813\")\n",
    "    y_prev = []\n",
    "    y_next = []\n",
    "    u_prev = []\n",
    "    u_next = []\n",
    "    v_prev = []\n",
    "    v_next = []\n",
    "    source_prevs = []\n",
    "    source_nexts = []\n",
    "    y_out = []\n",
    "    uv_out = []\n",
    "    destination_nexts = []\n",
    "    n = 0\n",
    "    while 1:\n",
    "        for i in range(2,int(files)):\n",
    "            n+=1\n",
    "            source_prev = loadImage(\"%05d\" % (i))\n",
    "            source_next = loadBaselineImage(\"%05d\" % (i+1))\n",
    "            source_prevs.append(source_prev)\n",
    "            source_nexts.append(source_next)\n",
    "            destination_next = loadImage(\"%05d\" % (i+1))\n",
    "            destination_nexts.append(destination_next)\n",
    "            # yield the batch data\n",
    "            if n==num_photos_per_batch:\n",
    "                for prev, _next, dest in zip(source_prevs, source_nexts, destination_nexts):\n",
    "                    y_prev.append(prev[\"y\"])\n",
    "                    y_next.append(_next[\"y\"])\n",
    "                    u_prev.append(prev[\"u\"])\n",
    "                    u_next.append(_next[\"u\"])\n",
    "                    v_prev.append(prev[\"v\"])\n",
    "                    v_next.append(_next[\"v\"])\n",
    "                    \n",
    "                    y_out.append(np.reshape(dest[\"y\"], (720, 1280)))\n",
    "                    uv_out.append(np.reshape(np.concatenate((dest[\"u\"], dest[\"v\"]), axis = 2), (-1, 360, 640)))\n",
    "                    \n",
    "                yield ([y_prev, y_next, u_prev, u_next, v_prev, v_next],[y_out, uv_out])\n",
    "                y_prev, y_next, u_prev, u_next, v_prev, v_next = list(), list(), list(), list(), list(), list()\n",
    "                source_prevs = []\n",
    "                source_nexts = []\n",
    "                y_out, uv_out = list(), list()\n",
    "                destination_nexts = []\n",
    "                n=0"
   ]
  },
  {
   "cell_type": "code",
   "execution_count": null,
   "metadata": {},
   "outputs": [],
   "source": []
  },
  {
   "cell_type": "code",
   "execution_count": null,
   "metadata": {
    "scrolled": true
   },
   "outputs": [
    {
     "name": "stdout",
     "output_type": "stream",
     "text": [
      "Epoch 1/10\n",
      "  1/399 [..............................] - ETA: 2:07:26 - loss: 3.9786e-06 - lambda_loss: 3.9786e-06 - lambda_1_loss: 5.1288e-12"
     ]
    }
   ],
   "source": [
    "number_pics_per_batch = 3\n",
    "generator = data_generator(number_pics_per_batch)\n",
    "\n",
    "files = number_of_files(\"/macierz/home/149528pp/DLCVProject/gaming_y/Gaming_720P-4813\")\n",
    "step = files//number_pics_per_batch\n",
    "history = model.fit(generator, epochs=10, steps_per_epoch=step, shuffle=False)\n",
    "timestr = time.strftime(\"%Y%m%d-%H%M%S\")\n",
    "model.save_weights('model_weights/model-' + timestr +'.h5')\n",
    "history_dict = history.history\n",
    "print(history_dict.keys())"
   ]
  },
  {
   "cell_type": "code",
   "execution_count": 14,
   "metadata": {},
   "outputs": [
    {
     "data": {
      "image/png": "[encoded data removed]",
      "text/plain": [
       "<Figure size 432x288 with 1 Axes>"
      ]
     },
     "metadata": {
      "needs_background": "light"
     },
     "output_type": "display_data"
    }
   ],
   "source": [
    "import matplotlib.pyplot as plt\n",
    "# Plot training & validation loss values\n",
    "plt.plot(history.history['loss'])\n",
    "plt.plot(history.history['lambda_loss'])\n",
    "plt.plot(history.history['lambda_1_loss'])\n",
    "plt.title('Model loss')\n",
    "plt.ylabel('Loss')\n",
    "plt.xlabel('Epoch')\n",
    "plt.legend(['loss', 'lambda_loss','lambda_1_loss'], loc='upper right')\n",
    "plt.yscale(\"log\")\n",
    "plt.show()"
   ]
  }
 ],
 "metadata": {
  "kernelspec": {
   "display_name": "Python 3",
   "language": "python",
   "name": "python3"
  },
  "language_info": {
   "codemirror_mode": {
    "name": "ipython",
    "version": 3
   },
   "file_extension": ".py",
   "mimetype": "text/x-python",
   "name": "python",
   "nbconvert_exporter": "python",
   "pygments_lexer": "ipython3",
   "version": "3.6.9"
  }
 },
 "nbformat": 4,
 "nbformat_minor": 2
}
